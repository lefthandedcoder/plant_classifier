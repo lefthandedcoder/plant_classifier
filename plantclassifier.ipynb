{
  "nbformat": 4,
  "nbformat_minor": 0,
  "metadata": {
    "colab": {
      "name": "plantclassifier.ipynb",
      "provenance": [],
      "collapsed_sections": [],
      "mount_file_id": "1D5EeFt6IiVgOTkbxRzBXM5mI9FaKa5s6",
      "authorship_tag": "ABX9TyPb3MzojMramwYf/ninAiP8",
      "include_colab_link": true
    },
    "kernelspec": {
      "name": "python3",
      "display_name": "Python 3"
    },
    "language_info": {
      "name": "python"
    },
    "accelerator": "GPU"
  },
  "cells": [
    {
      "cell_type": "markdown",
      "metadata": {
        "id": "view-in-github",
        "colab_type": "text"
      },
      "source": [
        "<a href=\"https://colab.research.google.com/github/lefthandedcoder/plantclassifier/blob/main/plantclassifier.ipynb\" target=\"_parent\"><img src=\"https://colab.research.google.com/assets/colab-badge.svg\" alt=\"Open In Colab\"/></a>"
      ]
    },
    {
      "cell_type": "code",
      "metadata": {
        "colab": {
          "base_uri": "https://localhost:8080/"
        },
        "id": "1qo-LTcxAGbN",
        "outputId": "d3977bae-fd4d-43b2-be52-62182ac65fca"
      },
      "source": [
        "! pip install kaggle"
      ],
      "execution_count": 2,
      "outputs": [
        {
          "output_type": "stream",
          "name": "stdout",
          "text": [
            "Requirement already satisfied: kaggle in /usr/local/lib/python3.7/dist-packages (1.5.12)\n",
            "Requirement already satisfied: urllib3 in /usr/local/lib/python3.7/dist-packages (from kaggle) (1.24.3)\n",
            "Requirement already satisfied: python-slugify in /usr/local/lib/python3.7/dist-packages (from kaggle) (5.0.2)\n",
            "Requirement already satisfied: tqdm in /usr/local/lib/python3.7/dist-packages (from kaggle) (4.62.2)\n",
            "Requirement already satisfied: requests in /usr/local/lib/python3.7/dist-packages (from kaggle) (2.23.0)\n",
            "Requirement already satisfied: python-dateutil in /usr/local/lib/python3.7/dist-packages (from kaggle) (2.8.2)\n",
            "Requirement already satisfied: certifi in /usr/local/lib/python3.7/dist-packages (from kaggle) (2021.5.30)\n",
            "Requirement already satisfied: six>=1.10 in /usr/local/lib/python3.7/dist-packages (from kaggle) (1.15.0)\n",
            "Requirement already satisfied: text-unidecode>=1.3 in /usr/local/lib/python3.7/dist-packages (from python-slugify->kaggle) (1.3)\n",
            "Requirement already satisfied: idna<3,>=2.5 in /usr/local/lib/python3.7/dist-packages (from requests->kaggle) (2.10)\n",
            "Requirement already satisfied: chardet<4,>=3.0.2 in /usr/local/lib/python3.7/dist-packages (from requests->kaggle) (3.0.4)\n"
          ]
        }
      ]
    },
    {
      "cell_type": "code",
      "metadata": {
        "id": "WMZkp9sOAMyB"
      },
      "source": [
        "! mkdir ~/.kaggle"
      ],
      "execution_count": 3,
      "outputs": []
    },
    {
      "cell_type": "code",
      "metadata": {
        "id": "IS--hLyyAPz3"
      },
      "source": [
        "!cp /content/drive/MyDrive/kaggle.json ~/.kaggle/kaggle.json"
      ],
      "execution_count": 4,
      "outputs": []
    },
    {
      "cell_type": "code",
      "metadata": {
        "colab": {
          "base_uri": "https://localhost:8080/"
        },
        "id": "zZONvHrOAUBv",
        "outputId": "c2a3b498-6d71-4a04-90e2-215fb29242c4"
      },
      "source": [
        "! kaggle datasets download ryanpartridge01/wild-edible-plants/"
      ],
      "execution_count": 5,
      "outputs": [
        {
          "output_type": "stream",
          "name": "stdout",
          "text": [
            "Downloading wild-edible-plants.zip to /content\n",
            " 99% 1.69G/1.70G [00:07<00:00, 228MB/s]\n",
            "100% 1.70G/1.70G [00:07<00:00, 230MB/s]\n"
          ]
        }
      ]
    },
    {
      "cell_type": "code",
      "metadata": {
        "id": "JUveSoMeArTS"
      },
      "source": [
        "! unzip wild-edible-plants.zip"
      ],
      "execution_count": null,
      "outputs": []
    },
    {
      "cell_type": "code",
      "metadata": {
        "id": "CHtGXTCVTyPL"
      },
      "source": [
        "#import the libraries\n",
        "from keras.preprocessing.image import ImageDataGenerator\n",
        "from keras.models import Sequential\n",
        "from keras.layers import Conv2D, Activation, MaxPooling2D, Flatten, Dense, Dropout\n",
        "import tensorflow as tf\n",
        "from numpy import expand_dims\n",
        "from keras.preprocessing.image import load_img\n",
        "from keras.preprocessing.image import img_to_array\n",
        "from keras.callbacks import ModelCheckpoint\n",
        "import matplotlib.pyplot as plt\n",
        "from tensorflow.keras import backend as K\n",
        "from tensorflow.keras.optimizers import SGD\n",
        "from IPython.display import SVG\n",
        "from keras.utils.vis_utils import model_to_dot\n",
        "import numpy as np\n",
        "import os\n",
        "from numpy.random import random"
      ],
      "execution_count": 7,
      "outputs": []
    },
    {
      "cell_type": "code",
      "metadata": {
        "id": "8owe5GkmUAk8"
      },
      "source": [
        "#Set the image size with are learning from\n",
        "IMG_WIDTH, IMG_HEIGHT = 224,224\n",
        "\n",
        "#Set the constants\n",
        "TRAIN_DATA_DIR = '/content/dataset/resized'\n",
        "\n",
        "EPOCHS = 25 #Higher for more time training model... diminishing returns\n",
        "BATCH_SIZE = 256\n",
        "\n",
        "# Machine Learning Model Filename\n",
        "ML_MODEL_FILENAME = 'saved_model_mobilenet.h5'"
      ],
      "execution_count": 8,
      "outputs": []
    },
    {
      "cell_type": "code",
      "metadata": {
        "id": "4FpHDpmYT5zN"
      },
      "source": [
        "def build_model():\n",
        "    \n",
        "    if K.image_data_format() == 'channels_first':\n",
        "        input_shape = (3, IMG_WIDTH, IMG_HEIGHT)\n",
        "    else:\n",
        "        input_shape = (IMG_WIDTH, IMG_HEIGHT, 3)\n",
        "\n",
        "    model = Sequential()\n",
        "    \n",
        "    pretrained_model= tf.keras.applications.MobileNetV2(\n",
        "        include_top=False,\n",
        "        input_shape=(224,224,3),\n",
        "        pooling='avg',classes=35,\n",
        "        weights='imagenet')\n",
        "\n",
        "    for layer in pretrained_model.layers:\n",
        "        layer.trainable=False\n",
        "        \n",
        "    model.add(pretrained_model)    \n",
        "    model.add(Flatten())\n",
        "    model.add(Dense(35, activation='softmax'))\n",
        "    \n",
        "    model.compile(loss='categorical_crossentropy',\n",
        "              optimizer='adam',\n",
        "              metrics=['accuracy'])\n",
        "    return model"
      ],
      "execution_count": 9,
      "outputs": []
    },
    {
      "cell_type": "code",
      "metadata": {
        "id": "fmH3qvCFA2R3"
      },
      "source": [
        "def train_model(model):\n",
        "    # this is the augmentation configuration we will use for training\n",
        "    train_datagen = ImageDataGenerator(\n",
        "      rescale=1./255,\n",
        "      zoom_range=0.2,\n",
        "      shear_range=0.2,\n",
        "      width_shift_range=0.2,\n",
        "      height_shift_range=0.2,\n",
        "      rotation_range=40,\n",
        "      horizontal_flip=True,  \n",
        "      fill_mode='nearest',\n",
        "      validation_split=0.1) # set validation split\n",
        "\n",
        "    train_generator = train_datagen.flow_from_directory(\n",
        "        TRAIN_DATA_DIR,\n",
        "        target_size=(IMG_WIDTH, IMG_HEIGHT),\n",
        "        batch_size=BATCH_SIZE,\n",
        "        shuffle=True,\n",
        "        seed=123,\n",
        "        class_mode='categorical',\n",
        "        subset='training') # set as training data\n",
        "    \n",
        "    validation_generator = train_datagen.flow_from_directory(\n",
        "        TRAIN_DATA_DIR, # same directory as training data\n",
        "        target_size=(IMG_WIDTH, IMG_HEIGHT),\n",
        "        batch_size=BATCH_SIZE,\n",
        "        shuffle=True,\n",
        "        seed=123,\n",
        "        class_mode='categorical',\n",
        "        subset='validation') # set as validation data\n",
        "    \n",
        "    filepath=\"/content/drive/MyDrive/weights.best.hdf5\"\n",
        "    checkpoint = ModelCheckpoint(filepath, \n",
        "                                 monitor='val_accuracy', \n",
        "                                 verbose=1, \n",
        "                                 save_best_only=True, \n",
        "                                 mode='max')\n",
        "    callbacks_list = [checkpoint]\n",
        "\n",
        "    history = model.fit(\n",
        "        train_generator,\n",
        "        steps_per_epoch = train_generator.samples // BATCH_SIZE,\n",
        "        validation_data = validation_generator, \n",
        "        validation_steps = validation_generator.samples // BATCH_SIZE,\n",
        "        epochs = EPOCHS, callbacks=callbacks_list)\n",
        "    # list all data in history\n",
        "    print(history.history.keys())\n",
        "    # summarize history for accuracy\n",
        "    plt.plot(history.history['accuracy'])\n",
        "    plt.plot(history.history['val_accuracy'])\n",
        "    plt.title('Model Accuracy')\n",
        "    plt.ylabel('Accuracy')\n",
        "    plt.xlabel('Epoch')\n",
        "    plt.legend(['Train', 'Test'], loc='upper left')\n",
        "    plt.show()\n",
        "    # summarize history for loss\n",
        "    plt.plot(history.history['loss'])\n",
        "    plt.plot(history.history['val_loss'])\n",
        "    plt.title('Model Loss')\n",
        "    plt.ylabel('Loss')\n",
        "    plt.xlabel('Epoch')\n",
        "    plt.legend(['Train', 'Test'], loc='upper left')\n",
        "    plt.show()\n",
        "\n",
        "    val_loss, val_acc = model.evaluate_generator(validation_generator, steps=50)\n",
        "    print('Validation accuracy:', val_acc)\n",
        "\n",
        "    return model"
      ],
      "execution_count": 34,
      "outputs": []
    },
    {
      "cell_type": "code",
      "metadata": {
        "id": "pY-gxeRTIKIC",
        "colab": {
          "base_uri": "https://localhost:8080/"
        },
        "outputId": "8a1a3050-aa34-4dd9-a5d9-d0ded5a5ed30"
      },
      "source": [
        "def get_visualizations():\n",
        "\n",
        "  # this is the augmentation configuration we will use for training\n",
        "  train_datagen = ImageDataGenerator(\n",
        "      zoom_range=0.2,\n",
        "      shear_range=0.2,\n",
        "      width_shift_range=0.2,\n",
        "      height_shift_range=0.2,\n",
        "      rotation_range=40,\n",
        "      horizontal_flip=True,  \n",
        "      fill_mode='nearest',  \n",
        "      validation_split=0.1) # set validation split\n",
        "\n",
        "  train_generator = train_datagen.flow_from_directory(\n",
        "      TRAIN_DATA_DIR,\n",
        "      target_size=(IMG_WIDTH, IMG_HEIGHT),\n",
        "      batch_size=BATCH_SIZE,\n",
        "      shuffle=False,\n",
        "      class_mode='categorical',\n",
        "      subset='training') # set as training data\n",
        "  \n",
        "\n",
        "  # Sample of images from dataset\n",
        "  class_dict = train_generator.class_indices\n",
        "  new_dict={}\n",
        "  for key, value in class_dict.items():\n",
        "      new_dict[value] = key        \n",
        "  images,labels = next(train_generator) # sample batch from generator\n",
        "  plt.figure(figsize = (10, 10))\n",
        "  length = len(labels)\n",
        "  if length < 25:   #show maximum of 25 images\n",
        "      r = length\n",
        "  else:\n",
        "      r = 25\n",
        "  for i in range(r):\n",
        "      plt.subplot(5, 5, i + 1)\n",
        "      image = (images[i]+1 )/2\n",
        "      plt.imshow(image)\n",
        "      index=np.argmax(labels[i])\n",
        "      class_name = new_dict[index]\n",
        "      plt.title(class_name, fontsize=16)\n",
        "      plt.axis('off')\n",
        "  plt.show()"
      ],
      "execution_count": 40,
      "outputs": [
        {
          "output_type": "stream",
          "name": "stderr",
          "text": [
            "Exception ignored in: <function IteratorResourceDeleter.__del__ at 0x7f52b1379a70>\n",
            "Traceback (most recent call last):\n",
            "  File \"/usr/local/lib/python3.7/dist-packages/tensorflow/python/data/ops/iterator_ops.py\", line 546, in __del__\n",
            "    handle=self._handle, deleter=self._deleter)\n",
            "  File \"/usr/local/lib/python3.7/dist-packages/tensorflow/python/ops/gen_dataset_ops.py\", line 1264, in delete_iterator\n",
            "    _ctx, \"DeleteIterator\", name, handle, deleter)\n",
            "KeyboardInterrupt: \n"
          ]
        }
      ]
    },
    {
      "cell_type": "code",
      "metadata": {
        "id": "1ZU0Dj0UKxpR"
      },
      "source": [
        "def get_bar():\n",
        "  # Get bar chart of images per subdirectory\n",
        "  import os\n",
        "  import numpy as np\n",
        "  import matplotlib.pyplot as plt\n",
        "\n",
        "  plant_classes = []\n",
        "\n",
        "  classes = ([name for name in os.listdir('/content/dataset/resized/')\n",
        "              if os.path.isdir(os.path.join('/content/dataset/resized/', name))]) # get all directories \n",
        "  for plant in classes:\n",
        "      contents = os.listdir(os.path.join(TRAIN_DATA_DIR, plant)) # get list of contents\n",
        "      plant_classes.append([plant, len(contents)])\n",
        "      \n",
        "  labels, ys = zip(*plant_classes)\n",
        "  xs = np.arange(len(labels)) \n",
        "  width = 1\n",
        "\n",
        "  col = (np.random.random(), np.random.random(), np.random.random())\n",
        "\n",
        "  fig = plt.figure()                                                               \n",
        "  ax = fig.gca()  #get current axes\n",
        "  ax.bar(xs, ys, color=col)\n",
        "\n",
        "  ax.set_title(\"Distribution of Images Per Plant Class\")\n",
        "  ax.set_xticks(xs)\n",
        "  ax.set_xticklabels(labels, rotation = 90, fontsize = 8)\n",
        "\n",
        "  plt.savefig('distribution.png')"
      ],
      "execution_count": 29,
      "outputs": []
    },
    {
      "cell_type": "code",
      "metadata": {
        "id": "tW7pWvexUHlX"
      },
      "source": [
        "def main():\n",
        "    myModel = None\n",
        "    tf.keras.backend.clear_session()\n",
        "    myModel = build_model()\n",
        "    SVG(model_to_dot(myModel).create(prog='dot', format='svg'))\n",
        "    myModel.summary()\n",
        "    myModel = train_model(myModel)\n",
        "    myModel.save(ML_MODEL_FILENAME)"
      ],
      "execution_count": 30,
      "outputs": []
    },
    {
      "cell_type": "code",
      "metadata": {
        "colab": {
          "base_uri": "https://localhost:8080/",
          "height": 1000
        },
        "id": "fs8tOD-aUI5q",
        "outputId": "213bf00a-662c-4417-f249-8ade128cdf40"
      },
      "source": [
        "main()"
      ],
      "execution_count": 35,
      "outputs": [
        {
          "output_type": "stream",
          "name": "stdout",
          "text": [
            "Model: \"sequential\"\n",
            "_________________________________________________________________\n",
            "Layer (type)                 Output Shape              Param #   \n",
            "=================================================================\n",
            "mobilenetv2_1.00_224 (Functi (None, 1280)              2257984   \n",
            "_________________________________________________________________\n",
            "flatten (Flatten)            (None, 1280)              0         \n",
            "_________________________________________________________________\n",
            "dense (Dense)                (None, 35)                44835     \n",
            "=================================================================\n",
            "Total params: 2,302,819\n",
            "Trainable params: 44,835\n",
            "Non-trainable params: 2,257,984\n",
            "_________________________________________________________________\n",
            "Found 14885 images belonging to 35 classes.\n",
            "Found 1641 images belonging to 35 classes.\n",
            "Epoch 1/25\n",
            "58/58 [==============================] - 258s 4s/step - loss: 2.2167 - accuracy: 0.4358 - val_loss: 1.3893 - val_accuracy: 0.6576\n",
            "\n",
            "Epoch 00001: val_accuracy improved from -inf to 0.65755, saving model to /content/drive/MyDrive/weights.best.hdf5\n"
          ]
        },
        {
          "output_type": "stream",
          "name": "stderr",
          "text": [
            "/usr/local/lib/python3.7/dist-packages/keras/utils/generic_utils.py:497: CustomMaskWarning: Custom mask layers require a config and must override get_config. When loading, the custom mask layer must be passed to the custom_objects argument.\n",
            "  category=CustomMaskWarning)\n"
          ]
        },
        {
          "output_type": "stream",
          "name": "stdout",
          "text": [
            "Epoch 2/25\n",
            "58/58 [==============================] - 235s 4s/step - loss: 1.1683 - accuracy: 0.7001 - val_loss: 1.0745 - val_accuracy: 0.7129\n",
            "\n",
            "Epoch 00002: val_accuracy improved from 0.65755 to 0.71289, saving model to /content/drive/MyDrive/weights.best.hdf5\n",
            "Epoch 3/25\n",
            "58/58 [==============================] - 235s 4s/step - loss: 0.9269 - accuracy: 0.7569 - val_loss: 0.9394 - val_accuracy: 0.7350\n",
            "\n",
            "Epoch 00003: val_accuracy improved from 0.71289 to 0.73503, saving model to /content/drive/MyDrive/weights.best.hdf5\n",
            "Epoch 4/25\n",
            "58/58 [==============================] - 235s 4s/step - loss: 0.8165 - accuracy: 0.7797 - val_loss: 0.8579 - val_accuracy: 0.7663\n",
            "\n",
            "Epoch 00004: val_accuracy improved from 0.73503 to 0.76628, saving model to /content/drive/MyDrive/weights.best.hdf5\n",
            "Epoch 5/25\n",
            "58/58 [==============================] - 235s 4s/step - loss: 0.7389 - accuracy: 0.8027 - val_loss: 0.7871 - val_accuracy: 0.7865\n",
            "\n",
            "Epoch 00005: val_accuracy improved from 0.76628 to 0.78646, saving model to /content/drive/MyDrive/weights.best.hdf5\n",
            "Epoch 6/25\n",
            "58/58 [==============================] - 234s 4s/step - loss: 0.6782 - accuracy: 0.8173 - val_loss: 0.7763 - val_accuracy: 0.7826\n",
            "\n",
            "Epoch 00006: val_accuracy did not improve from 0.78646\n",
            "Epoch 7/25\n",
            "58/58 [==============================] - 234s 4s/step - loss: 0.6438 - accuracy: 0.8264 - val_loss: 0.7494 - val_accuracy: 0.8001\n",
            "\n",
            "Epoch 00007: val_accuracy improved from 0.78646 to 0.80013, saving model to /content/drive/MyDrive/weights.best.hdf5\n",
            "Epoch 8/25\n",
            "58/58 [==============================] - 235s 4s/step - loss: 0.6048 - accuracy: 0.8332 - val_loss: 0.7346 - val_accuracy: 0.8034\n",
            "\n",
            "Epoch 00008: val_accuracy improved from 0.80013 to 0.80339, saving model to /content/drive/MyDrive/weights.best.hdf5\n",
            "Epoch 9/25\n",
            "58/58 [==============================] - 235s 4s/step - loss: 0.5804 - accuracy: 0.8409 - val_loss: 0.6933 - val_accuracy: 0.8125\n",
            "\n",
            "Epoch 00009: val_accuracy improved from 0.80339 to 0.81250, saving model to /content/drive/MyDrive/weights.best.hdf5\n",
            "Epoch 10/25\n",
            "58/58 [==============================] - 234s 4s/step - loss: 0.5543 - accuracy: 0.8464 - val_loss: 0.7107 - val_accuracy: 0.7956\n",
            "\n",
            "Epoch 00010: val_accuracy did not improve from 0.81250\n",
            "Epoch 11/25\n",
            "58/58 [==============================] - 234s 4s/step - loss: 0.5355 - accuracy: 0.8500 - val_loss: 0.6694 - val_accuracy: 0.8066\n",
            "\n",
            "Epoch 00011: val_accuracy did not improve from 0.81250\n",
            "Epoch 12/25\n",
            "58/58 [==============================] - 233s 4s/step - loss: 0.5229 - accuracy: 0.8533 - val_loss: 0.6620 - val_accuracy: 0.8112\n",
            "\n",
            "Epoch 00012: val_accuracy did not improve from 0.81250\n",
            "Epoch 13/25\n",
            "58/58 [==============================] - 233s 4s/step - loss: 0.5017 - accuracy: 0.8607 - val_loss: 0.6916 - val_accuracy: 0.8086\n",
            "\n",
            "Epoch 00013: val_accuracy did not improve from 0.81250\n",
            "Epoch 14/25\n",
            "58/58 [==============================] - 233s 4s/step - loss: 0.4866 - accuracy: 0.8660 - val_loss: 0.6674 - val_accuracy: 0.8060\n",
            "\n",
            "Epoch 00014: val_accuracy did not improve from 0.81250\n",
            "Epoch 15/25\n",
            "56/58 [===========================>..] - ETA: 7s - loss: 0.4804 - accuracy: 0.8629 "
          ]
        },
        {
          "output_type": "error",
          "ename": "KeyboardInterrupt",
          "evalue": "ignored",
          "traceback": [
            "\u001b[0;31m---------------------------------------------------------------------------\u001b[0m",
            "\u001b[0;31mKeyboardInterrupt\u001b[0m                         Traceback (most recent call last)",
            "\u001b[0;32m<ipython-input-35-263240bbee7e>\u001b[0m in \u001b[0;36m<module>\u001b[0;34m()\u001b[0m\n\u001b[0;32m----> 1\u001b[0;31m \u001b[0mmain\u001b[0m\u001b[0;34m(\u001b[0m\u001b[0;34m)\u001b[0m\u001b[0;34m\u001b[0m\u001b[0;34m\u001b[0m\u001b[0m\n\u001b[0m",
            "\u001b[0;32m<ipython-input-30-bc94560e6bc4>\u001b[0m in \u001b[0;36mmain\u001b[0;34m()\u001b[0m\n\u001b[1;32m      5\u001b[0m     \u001b[0mSVG\u001b[0m\u001b[0;34m(\u001b[0m\u001b[0mmodel_to_dot\u001b[0m\u001b[0;34m(\u001b[0m\u001b[0mmyModel\u001b[0m\u001b[0;34m)\u001b[0m\u001b[0;34m.\u001b[0m\u001b[0mcreate\u001b[0m\u001b[0;34m(\u001b[0m\u001b[0mprog\u001b[0m\u001b[0;34m=\u001b[0m\u001b[0;34m'dot'\u001b[0m\u001b[0;34m,\u001b[0m \u001b[0mformat\u001b[0m\u001b[0;34m=\u001b[0m\u001b[0;34m'svg'\u001b[0m\u001b[0;34m)\u001b[0m\u001b[0;34m)\u001b[0m\u001b[0;34m\u001b[0m\u001b[0;34m\u001b[0m\u001b[0m\n\u001b[1;32m      6\u001b[0m     \u001b[0mmyModel\u001b[0m\u001b[0;34m.\u001b[0m\u001b[0msummary\u001b[0m\u001b[0;34m(\u001b[0m\u001b[0;34m)\u001b[0m\u001b[0;34m\u001b[0m\u001b[0;34m\u001b[0m\u001b[0m\n\u001b[0;32m----> 7\u001b[0;31m     \u001b[0mmyModel\u001b[0m \u001b[0;34m=\u001b[0m \u001b[0mtrain_model\u001b[0m\u001b[0;34m(\u001b[0m\u001b[0mmyModel\u001b[0m\u001b[0;34m)\u001b[0m\u001b[0;34m\u001b[0m\u001b[0;34m\u001b[0m\u001b[0m\n\u001b[0m\u001b[1;32m      8\u001b[0m     \u001b[0mmyModel\u001b[0m\u001b[0;34m.\u001b[0m\u001b[0msave\u001b[0m\u001b[0;34m(\u001b[0m\u001b[0mML_MODEL_FILENAME\u001b[0m\u001b[0;34m)\u001b[0m\u001b[0;34m\u001b[0m\u001b[0;34m\u001b[0m\u001b[0m\n",
            "\u001b[0;32m<ipython-input-34-91e5274f3500>\u001b[0m in \u001b[0;36mtrain_model\u001b[0;34m(model)\u001b[0m\n\u001b[1;32m     39\u001b[0m         \u001b[0mvalidation_data\u001b[0m \u001b[0;34m=\u001b[0m \u001b[0mvalidation_generator\u001b[0m\u001b[0;34m,\u001b[0m\u001b[0;34m\u001b[0m\u001b[0;34m\u001b[0m\u001b[0m\n\u001b[1;32m     40\u001b[0m         \u001b[0mvalidation_steps\u001b[0m \u001b[0;34m=\u001b[0m \u001b[0mvalidation_generator\u001b[0m\u001b[0;34m.\u001b[0m\u001b[0msamples\u001b[0m \u001b[0;34m//\u001b[0m \u001b[0mBATCH_SIZE\u001b[0m\u001b[0;34m,\u001b[0m\u001b[0;34m\u001b[0m\u001b[0;34m\u001b[0m\u001b[0m\n\u001b[0;32m---> 41\u001b[0;31m         epochs = EPOCHS, callbacks=callbacks_list)\n\u001b[0m\u001b[1;32m     42\u001b[0m     \u001b[0;31m# list all data in history\u001b[0m\u001b[0;34m\u001b[0m\u001b[0;34m\u001b[0m\u001b[0;34m\u001b[0m\u001b[0m\n\u001b[1;32m     43\u001b[0m     \u001b[0mprint\u001b[0m\u001b[0;34m(\u001b[0m\u001b[0mhistory\u001b[0m\u001b[0;34m.\u001b[0m\u001b[0mhistory\u001b[0m\u001b[0;34m.\u001b[0m\u001b[0mkeys\u001b[0m\u001b[0;34m(\u001b[0m\u001b[0;34m)\u001b[0m\u001b[0;34m)\u001b[0m\u001b[0;34m\u001b[0m\u001b[0;34m\u001b[0m\u001b[0m\n",
            "\u001b[0;32m/usr/local/lib/python3.7/dist-packages/keras/engine/training.py\u001b[0m in \u001b[0;36mfit\u001b[0;34m(self, x, y, batch_size, epochs, verbose, callbacks, validation_split, validation_data, shuffle, class_weight, sample_weight, initial_epoch, steps_per_epoch, validation_steps, validation_batch_size, validation_freq, max_queue_size, workers, use_multiprocessing)\u001b[0m\n\u001b[1;32m   1182\u001b[0m                 _r=1):\n\u001b[1;32m   1183\u001b[0m               \u001b[0mcallbacks\u001b[0m\u001b[0;34m.\u001b[0m\u001b[0mon_train_batch_begin\u001b[0m\u001b[0;34m(\u001b[0m\u001b[0mstep\u001b[0m\u001b[0;34m)\u001b[0m\u001b[0;34m\u001b[0m\u001b[0;34m\u001b[0m\u001b[0m\n\u001b[0;32m-> 1184\u001b[0;31m               \u001b[0mtmp_logs\u001b[0m \u001b[0;34m=\u001b[0m \u001b[0mself\u001b[0m\u001b[0;34m.\u001b[0m\u001b[0mtrain_function\u001b[0m\u001b[0;34m(\u001b[0m\u001b[0miterator\u001b[0m\u001b[0;34m)\u001b[0m\u001b[0;34m\u001b[0m\u001b[0;34m\u001b[0m\u001b[0m\n\u001b[0m\u001b[1;32m   1185\u001b[0m               \u001b[0;32mif\u001b[0m \u001b[0mdata_handler\u001b[0m\u001b[0;34m.\u001b[0m\u001b[0mshould_sync\u001b[0m\u001b[0;34m:\u001b[0m\u001b[0;34m\u001b[0m\u001b[0;34m\u001b[0m\u001b[0m\n\u001b[1;32m   1186\u001b[0m                 \u001b[0mcontext\u001b[0m\u001b[0;34m.\u001b[0m\u001b[0masync_wait\u001b[0m\u001b[0;34m(\u001b[0m\u001b[0;34m)\u001b[0m\u001b[0;34m\u001b[0m\u001b[0;34m\u001b[0m\u001b[0m\n",
            "\u001b[0;32m/usr/local/lib/python3.7/dist-packages/tensorflow/python/eager/def_function.py\u001b[0m in \u001b[0;36m__call__\u001b[0;34m(self, *args, **kwds)\u001b[0m\n\u001b[1;32m    883\u001b[0m \u001b[0;34m\u001b[0m\u001b[0m\n\u001b[1;32m    884\u001b[0m       \u001b[0;32mwith\u001b[0m \u001b[0mOptionalXlaContext\u001b[0m\u001b[0;34m(\u001b[0m\u001b[0mself\u001b[0m\u001b[0;34m.\u001b[0m\u001b[0m_jit_compile\u001b[0m\u001b[0;34m)\u001b[0m\u001b[0;34m:\u001b[0m\u001b[0;34m\u001b[0m\u001b[0;34m\u001b[0m\u001b[0m\n\u001b[0;32m--> 885\u001b[0;31m         \u001b[0mresult\u001b[0m \u001b[0;34m=\u001b[0m \u001b[0mself\u001b[0m\u001b[0;34m.\u001b[0m\u001b[0m_call\u001b[0m\u001b[0;34m(\u001b[0m\u001b[0;34m*\u001b[0m\u001b[0margs\u001b[0m\u001b[0;34m,\u001b[0m \u001b[0;34m**\u001b[0m\u001b[0mkwds\u001b[0m\u001b[0;34m)\u001b[0m\u001b[0;34m\u001b[0m\u001b[0;34m\u001b[0m\u001b[0m\n\u001b[0m\u001b[1;32m    886\u001b[0m \u001b[0;34m\u001b[0m\u001b[0m\n\u001b[1;32m    887\u001b[0m       \u001b[0mnew_tracing_count\u001b[0m \u001b[0;34m=\u001b[0m \u001b[0mself\u001b[0m\u001b[0;34m.\u001b[0m\u001b[0mexperimental_get_tracing_count\u001b[0m\u001b[0;34m(\u001b[0m\u001b[0;34m)\u001b[0m\u001b[0;34m\u001b[0m\u001b[0;34m\u001b[0m\u001b[0m\n",
            "\u001b[0;32m/usr/local/lib/python3.7/dist-packages/tensorflow/python/eager/def_function.py\u001b[0m in \u001b[0;36m_call\u001b[0;34m(self, *args, **kwds)\u001b[0m\n\u001b[1;32m    915\u001b[0m       \u001b[0;31m# In this case we have created variables on the first call, so we run the\u001b[0m\u001b[0;34m\u001b[0m\u001b[0;34m\u001b[0m\u001b[0;34m\u001b[0m\u001b[0m\n\u001b[1;32m    916\u001b[0m       \u001b[0;31m# defunned version which is guaranteed to never create variables.\u001b[0m\u001b[0;34m\u001b[0m\u001b[0;34m\u001b[0m\u001b[0;34m\u001b[0m\u001b[0m\n\u001b[0;32m--> 917\u001b[0;31m       \u001b[0;32mreturn\u001b[0m \u001b[0mself\u001b[0m\u001b[0;34m.\u001b[0m\u001b[0m_stateless_fn\u001b[0m\u001b[0;34m(\u001b[0m\u001b[0;34m*\u001b[0m\u001b[0margs\u001b[0m\u001b[0;34m,\u001b[0m \u001b[0;34m**\u001b[0m\u001b[0mkwds\u001b[0m\u001b[0;34m)\u001b[0m  \u001b[0;31m# pylint: disable=not-callable\u001b[0m\u001b[0;34m\u001b[0m\u001b[0;34m\u001b[0m\u001b[0m\n\u001b[0m\u001b[1;32m    918\u001b[0m     \u001b[0;32melif\u001b[0m \u001b[0mself\u001b[0m\u001b[0;34m.\u001b[0m\u001b[0m_stateful_fn\u001b[0m \u001b[0;32mis\u001b[0m \u001b[0;32mnot\u001b[0m \u001b[0;32mNone\u001b[0m\u001b[0;34m:\u001b[0m\u001b[0;34m\u001b[0m\u001b[0;34m\u001b[0m\u001b[0m\n\u001b[1;32m    919\u001b[0m       \u001b[0;31m# Release the lock early so that multiple threads can perform the call\u001b[0m\u001b[0;34m\u001b[0m\u001b[0;34m\u001b[0m\u001b[0;34m\u001b[0m\u001b[0m\n",
            "\u001b[0;32m/usr/local/lib/python3.7/dist-packages/tensorflow/python/eager/function.py\u001b[0m in \u001b[0;36m__call__\u001b[0;34m(self, *args, **kwargs)\u001b[0m\n\u001b[1;32m   3038\u001b[0m        filtered_flat_args) = self._maybe_define_function(args, kwargs)\n\u001b[1;32m   3039\u001b[0m     return graph_function._call_flat(\n\u001b[0;32m-> 3040\u001b[0;31m         filtered_flat_args, captured_inputs=graph_function.captured_inputs)  # pylint: disable=protected-access\n\u001b[0m\u001b[1;32m   3041\u001b[0m \u001b[0;34m\u001b[0m\u001b[0m\n\u001b[1;32m   3042\u001b[0m   \u001b[0;34m@\u001b[0m\u001b[0mproperty\u001b[0m\u001b[0;34m\u001b[0m\u001b[0;34m\u001b[0m\u001b[0m\n",
            "\u001b[0;32m/usr/local/lib/python3.7/dist-packages/tensorflow/python/eager/function.py\u001b[0m in \u001b[0;36m_call_flat\u001b[0;34m(self, args, captured_inputs, cancellation_manager)\u001b[0m\n\u001b[1;32m   1962\u001b[0m       \u001b[0;31m# No tape is watching; skip to running the function.\u001b[0m\u001b[0;34m\u001b[0m\u001b[0;34m\u001b[0m\u001b[0;34m\u001b[0m\u001b[0m\n\u001b[1;32m   1963\u001b[0m       return self._build_call_outputs(self._inference_function.call(\n\u001b[0;32m-> 1964\u001b[0;31m           ctx, args, cancellation_manager=cancellation_manager))\n\u001b[0m\u001b[1;32m   1965\u001b[0m     forward_backward = self._select_forward_and_backward_functions(\n\u001b[1;32m   1966\u001b[0m         \u001b[0margs\u001b[0m\u001b[0;34m,\u001b[0m\u001b[0;34m\u001b[0m\u001b[0;34m\u001b[0m\u001b[0m\n",
            "\u001b[0;32m/usr/local/lib/python3.7/dist-packages/tensorflow/python/eager/function.py\u001b[0m in \u001b[0;36mcall\u001b[0;34m(self, ctx, args, cancellation_manager)\u001b[0m\n\u001b[1;32m    594\u001b[0m               \u001b[0minputs\u001b[0m\u001b[0;34m=\u001b[0m\u001b[0margs\u001b[0m\u001b[0;34m,\u001b[0m\u001b[0;34m\u001b[0m\u001b[0;34m\u001b[0m\u001b[0m\n\u001b[1;32m    595\u001b[0m               \u001b[0mattrs\u001b[0m\u001b[0;34m=\u001b[0m\u001b[0mattrs\u001b[0m\u001b[0;34m,\u001b[0m\u001b[0;34m\u001b[0m\u001b[0;34m\u001b[0m\u001b[0m\n\u001b[0;32m--> 596\u001b[0;31m               ctx=ctx)\n\u001b[0m\u001b[1;32m    597\u001b[0m         \u001b[0;32melse\u001b[0m\u001b[0;34m:\u001b[0m\u001b[0;34m\u001b[0m\u001b[0;34m\u001b[0m\u001b[0m\n\u001b[1;32m    598\u001b[0m           outputs = execute.execute_with_cancellation(\n",
            "\u001b[0;32m/usr/local/lib/python3.7/dist-packages/tensorflow/python/eager/execute.py\u001b[0m in \u001b[0;36mquick_execute\u001b[0;34m(op_name, num_outputs, inputs, attrs, ctx, name)\u001b[0m\n\u001b[1;32m     58\u001b[0m     \u001b[0mctx\u001b[0m\u001b[0;34m.\u001b[0m\u001b[0mensure_initialized\u001b[0m\u001b[0;34m(\u001b[0m\u001b[0;34m)\u001b[0m\u001b[0;34m\u001b[0m\u001b[0;34m\u001b[0m\u001b[0m\n\u001b[1;32m     59\u001b[0m     tensors = pywrap_tfe.TFE_Py_Execute(ctx._handle, device_name, op_name,\n\u001b[0;32m---> 60\u001b[0;31m                                         inputs, attrs, num_outputs)\n\u001b[0m\u001b[1;32m     61\u001b[0m   \u001b[0;32mexcept\u001b[0m \u001b[0mcore\u001b[0m\u001b[0;34m.\u001b[0m\u001b[0m_NotOkStatusException\u001b[0m \u001b[0;32mas\u001b[0m \u001b[0me\u001b[0m\u001b[0;34m:\u001b[0m\u001b[0;34m\u001b[0m\u001b[0;34m\u001b[0m\u001b[0m\n\u001b[1;32m     62\u001b[0m     \u001b[0;32mif\u001b[0m \u001b[0mname\u001b[0m \u001b[0;32mis\u001b[0m \u001b[0;32mnot\u001b[0m \u001b[0;32mNone\u001b[0m\u001b[0;34m:\u001b[0m\u001b[0;34m\u001b[0m\u001b[0;34m\u001b[0m\u001b[0m\n",
            "\u001b[0;31mKeyboardInterrupt\u001b[0m: "
          ]
        }
      ]
    },
    {
      "cell_type": "code",
      "metadata": {
        "colab": {
          "base_uri": "https://localhost:8080/",
          "height": 1000
        },
        "id": "hKgZM8tUI22x",
        "outputId": "f8ad8b8b-bbf2-4b0c-cc30-fa1ec9dd1218"
      },
      "source": [
        "get_visualizations()"
      ],
      "execution_count": 41,
      "outputs": [
        {
          "output_type": "stream",
          "name": "stdout",
          "text": [
            "Found 14885 images belonging to 35 classes.\n"
          ]
        },
        {
          "output_type": "stream",
          "name": "stderr",
          "text": [
            "Clipping input data to the valid range for imshow with RGB data ([0..1] for floats or [0..255] for integers).\n",
            "Clipping input data to the valid range for imshow with RGB data ([0..1] for floats or [0..255] for integers).\n",
            "Clipping input data to the valid range for imshow with RGB data ([0..1] for floats or [0..255] for integers).\n",
            "Clipping input data to the valid range for imshow with RGB data ([0..1] for floats or [0..255] for integers).\n",
            "Clipping input data to the valid range for imshow with RGB data ([0..1] for floats or [0..255] for integers).\n",
            "Clipping input data to the valid range for imshow with RGB data ([0..1] for floats or [0..255] for integers).\n",
            "Clipping input data to the valid range for imshow with RGB data ([0..1] for floats or [0..255] for integers).\n",
            "Clipping input data to the valid range for imshow with RGB data ([0..1] for floats or [0..255] for integers).\n",
            "Clipping input data to the valid range for imshow with RGB data ([0..1] for floats or [0..255] for integers).\n",
            "Clipping input data to the valid range for imshow with RGB data ([0..1] for floats or [0..255] for integers).\n",
            "Clipping input data to the valid range for imshow with RGB data ([0..1] for floats or [0..255] for integers).\n",
            "Clipping input data to the valid range for imshow with RGB data ([0..1] for floats or [0..255] for integers).\n",
            "Clipping input data to the valid range for imshow with RGB data ([0..1] for floats or [0..255] for integers).\n",
            "Clipping input data to the valid range for imshow with RGB data ([0..1] for floats or [0..255] for integers).\n",
            "Clipping input data to the valid range for imshow with RGB data ([0..1] for floats or [0..255] for integers).\n",
            "Clipping input data to the valid range for imshow with RGB data ([0..1] for floats or [0..255] for integers).\n",
            "Clipping input data to the valid range for imshow with RGB data ([0..1] for floats or [0..255] for integers).\n",
            "Clipping input data to the valid range for imshow with RGB data ([0..1] for floats or [0..255] for integers).\n",
            "Clipping input data to the valid range for imshow with RGB data ([0..1] for floats or [0..255] for integers).\n",
            "Clipping input data to the valid range for imshow with RGB data ([0..1] for floats or [0..255] for integers).\n",
            "Clipping input data to the valid range for imshow with RGB data ([0..1] for floats or [0..255] for integers).\n",
            "Clipping input data to the valid range for imshow with RGB data ([0..1] for floats or [0..255] for integers).\n",
            "Clipping input data to the valid range for imshow with RGB data ([0..1] for floats or [0..255] for integers).\n",
            "Clipping input data to the valid range for imshow with RGB data ([0..1] for floats or [0..255] for integers).\n",
            "Clipping input data to the valid range for imshow with RGB data ([0..1] for floats or [0..255] for integers).\n"
          ]
        },
        {
          "output_type": "display_data",
          "data": {
            "image/png": "[encoded data removed]",
            "text/plain": [
              "<Figure size 720x720 with 25 Axes>"
            ]
          },
          "metadata": {
            "needs_background": "light"
          }
        }
      ]
    },
    {
      "cell_type": "code",
      "metadata": {
        "id": "vPDUSMNCK3BO"
      },
      "source": [
        "get_bar()"
      ],
      "execution_count": null,
      "outputs": []
    },
    {
      "cell_type": "code",
      "metadata": {
        "id": "vpcBmE2CpIOA"
      },
      "source": [
        "from keras.models import load_model\n",
        "from PIL import Image\n",
        "from keras.preprocessing.image import image\n",
        "import numpy as np\n",
        "from google.colab import files\n",
        "from IPython.display import Image \n",
        "\n",
        "plant_classes = []\n",
        "\n",
        "classes = ([name for name in os.listdir('/content/dataset/resized/')\n",
        "            if os.path.isdir(os.path.join('/content/dataset/resized/', name))]) # get all directories \n",
        "for plant in classes:\n",
        "    contents = os.listdir(os.path.join(TRAIN_DATA_DIR, plant)) # get list of contents\n",
        "    plant_classes.append([plant, len(contents)])\n",
        "\n",
        "  \n",
        "UPLOAD_FOLDER = \"content\"\n",
        "myModel = load_model('/content/drive/MyDrive/weights.best.hdf5')\n",
        "\n",
        "uploaded = files.upload()\n",
        "#filename = next(iter(uploaded))\n",
        "filename = '/content/Chive_Blossoms_-_panoramio.jpg'\n",
        "Image(filename=filename, width = 224, height = 224)\n",
        "test_image = image.load_img('/content/Chive_Blossoms_-_panoramio.jpg', target_size=(224, 224))\n",
        "test_image = image.img_to_array(test_image)\n",
        "test_image = np.expand_dims(test_image, axis=0)\n",
        "predictions = myModel.predict(test_image)\n",
        "score = tf.nn.softmax(predictions[0])\n",
        "\n",
        "print(\n",
        "    \"This is most likely an image of the wild edible plant {} with a {:.2f}% confidence.\"\n",
        "    .format(plant_classes[np.argmax(score)][0], 100 * np.max(score))\n",
        ")"
      ],
      "execution_count": null,
      "outputs": []
    }
  ]
}